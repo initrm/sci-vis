{
 "cells": [
  {
   "cell_type": "markdown",
   "id": "f366b94b",
   "metadata": {},
   "source": [
    "### Libraries import"
   ]
  },
  {
   "cell_type": "code",
   "execution_count": 16,
   "id": "fa2c2337",
   "metadata": {},
   "outputs": [],
   "source": [
    "import pandas as pd\n",
    "import numpy as np\n",
    "import plotly.express as px\n",
    "import circlify\n",
    "import matplotlib.pyplot as plt\n",
    "from matplotlib.lines import Line2D"
   ]
  },
  {
   "cell_type": "markdown",
   "id": "1a9543ec",
   "metadata": {},
   "source": [
    "### Style"
   ]
  },
  {
   "cell_type": "code",
   "execution_count": 17,
   "id": "96cc1417",
   "metadata": {},
   "outputs": [],
   "source": [
    "from matplotlib import font_manager\n",
    "\n",
    "font_dirs = ['style/fonts/']\n",
    "font_files = font_manager.findSystemFonts(fontpaths=font_dirs)\n",
    "\n",
    "for font_file in font_files:\n",
    "  font_manager.fontManager.addfont(font_file)\n",
    "\n",
    "plt.style.use('default')\n",
    "plt.style.use('style/style.mplstyle')"
   ]
  },
  {
   "cell_type": "markdown",
   "id": "ecb6eaeb",
   "metadata": {},
   "source": [
    "### Data import"
   ]
  },
  {
   "cell_type": "code",
   "execution_count": 18,
   "id": "b078188c",
   "metadata": {},
   "outputs": [
    {
     "data": {
      "text/html": [
       "<div>\n",
       "<style scoped>\n",
       "    .dataframe tbody tr th:only-of-type {\n",
       "        vertical-align: middle;\n",
       "    }\n",
       "\n",
       "    .dataframe tbody tr th {\n",
       "        vertical-align: top;\n",
       "    }\n",
       "\n",
       "    .dataframe thead th {\n",
       "        text-align: right;\n",
       "    }\n",
       "</style>\n",
       "<table border=\"1\" class=\"dataframe\">\n",
       "  <thead>\n",
       "    <tr style=\"text-align: right;\">\n",
       "      <th></th>\n",
       "      <th>ITTER107</th>\n",
       "      <th>Territorio</th>\n",
       "      <th>TIPO_DATO_1522</th>\n",
       "      <th>Tipo dato</th>\n",
       "      <th>TIPUTENZA2</th>\n",
       "      <th>Tipologia di utenza</th>\n",
       "      <th>SEXISTAT1</th>\n",
       "      <th>Sesso</th>\n",
       "      <th>TIME</th>\n",
       "      <th>Seleziona periodo</th>\n",
       "      <th>Value</th>\n",
       "      <th>Flag Codes</th>\n",
       "      <th>Flags</th>\n",
       "    </tr>\n",
       "  </thead>\n",
       "  <tbody>\n",
       "    <tr>\n",
       "      <th>0</th>\n",
       "      <td>IT</td>\n",
       "      <td>Italia</td>\n",
       "      <td>USERS_TYPE</td>\n",
       "      <td>utenti del 1522 per tipologia di utenza(compos...</td>\n",
       "      <td>ALL_VAL</td>\n",
       "      <td>chiamate valide</td>\n",
       "      <td>T</td>\n",
       "      <td>totale</td>\n",
       "      <td>2013</td>\n",
       "      <td>2013</td>\n",
       "      <td>50.68</td>\n",
       "      <td>NaN</td>\n",
       "      <td>NaN</td>\n",
       "    </tr>\n",
       "    <tr>\n",
       "      <th>1</th>\n",
       "      <td>IT</td>\n",
       "      <td>Italia</td>\n",
       "      <td>USERS_TYPE</td>\n",
       "      <td>utenti del 1522 per tipologia di utenza(compos...</td>\n",
       "      <td>ALL_VAL</td>\n",
       "      <td>chiamate valide</td>\n",
       "      <td>T</td>\n",
       "      <td>totale</td>\n",
       "      <td>2014</td>\n",
       "      <td>2014</td>\n",
       "      <td>55.63</td>\n",
       "      <td>NaN</td>\n",
       "      <td>NaN</td>\n",
       "    </tr>\n",
       "    <tr>\n",
       "      <th>2</th>\n",
       "      <td>IT</td>\n",
       "      <td>Italia</td>\n",
       "      <td>USERS_TYPE</td>\n",
       "      <td>utenti del 1522 per tipologia di utenza(compos...</td>\n",
       "      <td>ALL_VAL</td>\n",
       "      <td>chiamate valide</td>\n",
       "      <td>T</td>\n",
       "      <td>totale</td>\n",
       "      <td>2015</td>\n",
       "      <td>2015</td>\n",
       "      <td>54.22</td>\n",
       "      <td>NaN</td>\n",
       "      <td>NaN</td>\n",
       "    </tr>\n",
       "    <tr>\n",
       "      <th>3</th>\n",
       "      <td>IT</td>\n",
       "      <td>Italia</td>\n",
       "      <td>USERS_TYPE</td>\n",
       "      <td>utenti del 1522 per tipologia di utenza(compos...</td>\n",
       "      <td>ALL_VAL</td>\n",
       "      <td>chiamate valide</td>\n",
       "      <td>T</td>\n",
       "      <td>totale</td>\n",
       "      <td>2016</td>\n",
       "      <td>2016</td>\n",
       "      <td>55.11</td>\n",
       "      <td>NaN</td>\n",
       "      <td>NaN</td>\n",
       "    </tr>\n",
       "    <tr>\n",
       "      <th>4</th>\n",
       "      <td>IT</td>\n",
       "      <td>Italia</td>\n",
       "      <td>USERS_TYPE</td>\n",
       "      <td>utenti del 1522 per tipologia di utenza(compos...</td>\n",
       "      <td>ALL_VAL</td>\n",
       "      <td>chiamate valide</td>\n",
       "      <td>T</td>\n",
       "      <td>totale</td>\n",
       "      <td>2017</td>\n",
       "      <td>2017</td>\n",
       "      <td>52.30</td>\n",
       "      <td>NaN</td>\n",
       "      <td>NaN</td>\n",
       "    </tr>\n",
       "    <tr>\n",
       "      <th>...</th>\n",
       "      <td>...</td>\n",
       "      <td>...</td>\n",
       "      <td>...</td>\n",
       "      <td>...</td>\n",
       "      <td>...</td>\n",
       "      <td>...</td>\n",
       "      <td>...</td>\n",
       "      <td>...</td>\n",
       "      <td>...</td>\n",
       "      <td>...</td>\n",
       "      <td>...</td>\n",
       "      <td>...</td>\n",
       "      <td>...</td>\n",
       "    </tr>\n",
       "    <tr>\n",
       "      <th>95</th>\n",
       "      <td>IT</td>\n",
       "      <td>Italia</td>\n",
       "      <td>USERS_TYPE</td>\n",
       "      <td>utenti del 1522 per tipologia di utenza(compos...</td>\n",
       "      <td>USERS_CAL</td>\n",
       "      <td>utenti che chiamano per sè</td>\n",
       "      <td>T</td>\n",
       "      <td>totale</td>\n",
       "      <td>2018</td>\n",
       "      <td>2018</td>\n",
       "      <td>55.63</td>\n",
       "      <td>NaN</td>\n",
       "      <td>NaN</td>\n",
       "    </tr>\n",
       "    <tr>\n",
       "      <th>96</th>\n",
       "      <td>IT</td>\n",
       "      <td>Italia</td>\n",
       "      <td>USERS_TYPE</td>\n",
       "      <td>utenti del 1522 per tipologia di utenza(compos...</td>\n",
       "      <td>USERS_CAL</td>\n",
       "      <td>utenti che chiamano per sè</td>\n",
       "      <td>T</td>\n",
       "      <td>totale</td>\n",
       "      <td>2019</td>\n",
       "      <td>2019</td>\n",
       "      <td>48.40</td>\n",
       "      <td>NaN</td>\n",
       "      <td>NaN</td>\n",
       "    </tr>\n",
       "    <tr>\n",
       "      <th>97</th>\n",
       "      <td>IT</td>\n",
       "      <td>Italia</td>\n",
       "      <td>USERS_TYPE</td>\n",
       "      <td>utenti del 1522 per tipologia di utenza(compos...</td>\n",
       "      <td>USERS_CAL</td>\n",
       "      <td>utenti che chiamano per sè</td>\n",
       "      <td>T</td>\n",
       "      <td>totale</td>\n",
       "      <td>2020</td>\n",
       "      <td>2020</td>\n",
       "      <td>68.08</td>\n",
       "      <td>NaN</td>\n",
       "      <td>NaN</td>\n",
       "    </tr>\n",
       "    <tr>\n",
       "      <th>98</th>\n",
       "      <td>IT</td>\n",
       "      <td>Italia</td>\n",
       "      <td>USERS_TYPE</td>\n",
       "      <td>utenti del 1522 per tipologia di utenza(compos...</td>\n",
       "      <td>USERS_CAL</td>\n",
       "      <td>utenti che chiamano per sè</td>\n",
       "      <td>T</td>\n",
       "      <td>totale</td>\n",
       "      <td>2021</td>\n",
       "      <td>2021</td>\n",
       "      <td>60.60</td>\n",
       "      <td>NaN</td>\n",
       "      <td>NaN</td>\n",
       "    </tr>\n",
       "    <tr>\n",
       "      <th>99</th>\n",
       "      <td>IT</td>\n",
       "      <td>Italia</td>\n",
       "      <td>USERS_TYPE</td>\n",
       "      <td>utenti del 1522 per tipologia di utenza(compos...</td>\n",
       "      <td>USERS_CAL</td>\n",
       "      <td>utenti che chiamano per sè</td>\n",
       "      <td>T</td>\n",
       "      <td>totale</td>\n",
       "      <td>2022</td>\n",
       "      <td>2022</td>\n",
       "      <td>59.41</td>\n",
       "      <td>NaN</td>\n",
       "      <td>NaN</td>\n",
       "    </tr>\n",
       "  </tbody>\n",
       "</table>\n",
       "<p>100 rows × 13 columns</p>\n",
       "</div>"
      ],
      "text/plain": [
       "   ITTER107 Territorio TIPO_DATO_1522  \\\n",
       "0        IT     Italia     USERS_TYPE   \n",
       "1        IT     Italia     USERS_TYPE   \n",
       "2        IT     Italia     USERS_TYPE   \n",
       "3        IT     Italia     USERS_TYPE   \n",
       "4        IT     Italia     USERS_TYPE   \n",
       "..      ...        ...            ...   \n",
       "95       IT     Italia     USERS_TYPE   \n",
       "96       IT     Italia     USERS_TYPE   \n",
       "97       IT     Italia     USERS_TYPE   \n",
       "98       IT     Italia     USERS_TYPE   \n",
       "99       IT     Italia     USERS_TYPE   \n",
       "\n",
       "                                            Tipo dato TIPUTENZA2  \\\n",
       "0   utenti del 1522 per tipologia di utenza(compos...    ALL_VAL   \n",
       "1   utenti del 1522 per tipologia di utenza(compos...    ALL_VAL   \n",
       "2   utenti del 1522 per tipologia di utenza(compos...    ALL_VAL   \n",
       "3   utenti del 1522 per tipologia di utenza(compos...    ALL_VAL   \n",
       "4   utenti del 1522 per tipologia di utenza(compos...    ALL_VAL   \n",
       "..                                                ...        ...   \n",
       "95  utenti del 1522 per tipologia di utenza(compos...  USERS_CAL   \n",
       "96  utenti del 1522 per tipologia di utenza(compos...  USERS_CAL   \n",
       "97  utenti del 1522 per tipologia di utenza(compos...  USERS_CAL   \n",
       "98  utenti del 1522 per tipologia di utenza(compos...  USERS_CAL   \n",
       "99  utenti del 1522 per tipologia di utenza(compos...  USERS_CAL   \n",
       "\n",
       "           Tipologia di utenza SEXISTAT1   Sesso  TIME  Seleziona periodo  \\\n",
       "0              chiamate valide         T  totale  2013               2013   \n",
       "1              chiamate valide         T  totale  2014               2014   \n",
       "2              chiamate valide         T  totale  2015               2015   \n",
       "3              chiamate valide         T  totale  2016               2016   \n",
       "4              chiamate valide         T  totale  2017               2017   \n",
       "..                         ...       ...     ...   ...                ...   \n",
       "95  utenti che chiamano per sè         T  totale  2018               2018   \n",
       "96  utenti che chiamano per sè         T  totale  2019               2019   \n",
       "97  utenti che chiamano per sè         T  totale  2020               2020   \n",
       "98  utenti che chiamano per sè         T  totale  2021               2021   \n",
       "99  utenti che chiamano per sè         T  totale  2022               2022   \n",
       "\n",
       "    Value  Flag Codes  Flags  \n",
       "0   50.68         NaN    NaN  \n",
       "1   55.63         NaN    NaN  \n",
       "2   54.22         NaN    NaN  \n",
       "3   55.11         NaN    NaN  \n",
       "4   52.30         NaN    NaN  \n",
       "..    ...         ...    ...  \n",
       "95  55.63         NaN    NaN  \n",
       "96  48.40         NaN    NaN  \n",
       "97  68.08         NaN    NaN  \n",
       "98  60.60         NaN    NaN  \n",
       "99  59.41         NaN    NaN  \n",
       "\n",
       "[100 rows x 13 columns]"
      ]
     },
     "execution_count": 18,
     "metadata": {},
     "output_type": "execute_result"
    }
   ],
   "source": [
    "dataset = pd.read_csv('./../data/fuoriuscita/utenti_1522/Tipologia di utenza (2013 - 2022).csv')\n",
    "\n",
    "dataset"
   ]
  },
  {
   "cell_type": "markdown",
   "id": "22d4bd84",
   "metadata": {},
   "source": [
    "Ottenimento dati nazionali ed eliminazione di dati inutili e/o ridondanti:"
   ]
  },
  {
   "cell_type": "code",
   "execution_count": 19,
   "id": "7552613d",
   "metadata": {},
   "outputs": [
    {
     "data": {
      "text/html": [
       "<div>\n",
       "<style scoped>\n",
       "    .dataframe tbody tr th:only-of-type {\n",
       "        vertical-align: middle;\n",
       "    }\n",
       "\n",
       "    .dataframe tbody tr th {\n",
       "        vertical-align: top;\n",
       "    }\n",
       "\n",
       "    .dataframe thead th {\n",
       "        text-align: right;\n",
       "    }\n",
       "</style>\n",
       "<table border=\"1\" class=\"dataframe\">\n",
       "  <thead>\n",
       "    <tr style=\"text-align: right;\">\n",
       "      <th></th>\n",
       "      <th>TIPUTENZA2</th>\n",
       "      <th>Tipologia di utenza</th>\n",
       "      <th>SEXISTAT1</th>\n",
       "      <th>TIME</th>\n",
       "      <th>Value</th>\n",
       "    </tr>\n",
       "  </thead>\n",
       "  <tbody>\n",
       "    <tr>\n",
       "      <th>0</th>\n",
       "      <td>ALL_VAL</td>\n",
       "      <td>chiamate valide</td>\n",
       "      <td>T</td>\n",
       "      <td>2013</td>\n",
       "      <td>50.68</td>\n",
       "    </tr>\n",
       "    <tr>\n",
       "      <th>1</th>\n",
       "      <td>ALL_VAL</td>\n",
       "      <td>chiamate valide</td>\n",
       "      <td>T</td>\n",
       "      <td>2014</td>\n",
       "      <td>55.63</td>\n",
       "    </tr>\n",
       "    <tr>\n",
       "      <th>2</th>\n",
       "      <td>ALL_VAL</td>\n",
       "      <td>chiamate valide</td>\n",
       "      <td>T</td>\n",
       "      <td>2015</td>\n",
       "      <td>54.22</td>\n",
       "    </tr>\n",
       "    <tr>\n",
       "      <th>3</th>\n",
       "      <td>ALL_VAL</td>\n",
       "      <td>chiamate valide</td>\n",
       "      <td>T</td>\n",
       "      <td>2016</td>\n",
       "      <td>55.11</td>\n",
       "    </tr>\n",
       "    <tr>\n",
       "      <th>4</th>\n",
       "      <td>ALL_VAL</td>\n",
       "      <td>chiamate valide</td>\n",
       "      <td>T</td>\n",
       "      <td>2017</td>\n",
       "      <td>52.30</td>\n",
       "    </tr>\n",
       "    <tr>\n",
       "      <th>...</th>\n",
       "      <td>...</td>\n",
       "      <td>...</td>\n",
       "      <td>...</td>\n",
       "      <td>...</td>\n",
       "      <td>...</td>\n",
       "    </tr>\n",
       "    <tr>\n",
       "      <th>95</th>\n",
       "      <td>USERS_CAL</td>\n",
       "      <td>utenti che chiamano per sè</td>\n",
       "      <td>T</td>\n",
       "      <td>2018</td>\n",
       "      <td>55.63</td>\n",
       "    </tr>\n",
       "    <tr>\n",
       "      <th>96</th>\n",
       "      <td>USERS_CAL</td>\n",
       "      <td>utenti che chiamano per sè</td>\n",
       "      <td>T</td>\n",
       "      <td>2019</td>\n",
       "      <td>48.40</td>\n",
       "    </tr>\n",
       "    <tr>\n",
       "      <th>97</th>\n",
       "      <td>USERS_CAL</td>\n",
       "      <td>utenti che chiamano per sè</td>\n",
       "      <td>T</td>\n",
       "      <td>2020</td>\n",
       "      <td>68.08</td>\n",
       "    </tr>\n",
       "    <tr>\n",
       "      <th>98</th>\n",
       "      <td>USERS_CAL</td>\n",
       "      <td>utenti che chiamano per sè</td>\n",
       "      <td>T</td>\n",
       "      <td>2021</td>\n",
       "      <td>60.60</td>\n",
       "    </tr>\n",
       "    <tr>\n",
       "      <th>99</th>\n",
       "      <td>USERS_CAL</td>\n",
       "      <td>utenti che chiamano per sè</td>\n",
       "      <td>T</td>\n",
       "      <td>2022</td>\n",
       "      <td>59.41</td>\n",
       "    </tr>\n",
       "  </tbody>\n",
       "</table>\n",
       "<p>100 rows × 5 columns</p>\n",
       "</div>"
      ],
      "text/plain": [
       "   TIPUTENZA2         Tipologia di utenza SEXISTAT1  TIME  Value\n",
       "0     ALL_VAL             chiamate valide         T  2013  50.68\n",
       "1     ALL_VAL             chiamate valide         T  2014  55.63\n",
       "2     ALL_VAL             chiamate valide         T  2015  54.22\n",
       "3     ALL_VAL             chiamate valide         T  2016  55.11\n",
       "4     ALL_VAL             chiamate valide         T  2017  52.30\n",
       "..        ...                         ...       ...   ...    ...\n",
       "95  USERS_CAL  utenti che chiamano per sè         T  2018  55.63\n",
       "96  USERS_CAL  utenti che chiamano per sè         T  2019  48.40\n",
       "97  USERS_CAL  utenti che chiamano per sè         T  2020  68.08\n",
       "98  USERS_CAL  utenti che chiamano per sè         T  2021  60.60\n",
       "99  USERS_CAL  utenti che chiamano per sè         T  2022  59.41\n",
       "\n",
       "[100 rows x 5 columns]"
      ]
     },
     "execution_count": 19,
     "metadata": {},
     "output_type": "execute_result"
    }
   ],
   "source": [
    "country_data = dataset[dataset['ITTER107'] == 'IT'] # ottiene solo dati nazionali\n",
    "\n",
    "# rimozione di:\n",
    "# - \"Seleziona periodo\" e \"Sesso\" che contengono dati ridondanti rispettivamente di \"TIME\" e \"SEXISTAT1\"\n",
    "# - \"ITTER107\" e \"Territorio\" in quanto non vi è più alcuna distinzione, i dati mantenuti sono tutti nazionali\n",
    "# - \"Flag Codes\" e \"Flags\" in quanto inutili\n",
    "# - \"TIPO_DATO_1522\" e \"Tipo dato\" in quanto non utilizzati e ridondanti\n",
    "# - \"SEXISTAT1\" in quanto i dati non presentano dist\n",
    "country_data = country_data.drop(columns=['Seleziona periodo', 'Sesso', 'Flag Codes', 'Flags', 'Territorio', 'ITTER107', 'TIPO_DATO_1522', 'Tipo dato'])\n",
    "\n",
    "country_data"
   ]
  },
  {
   "cell_type": "markdown",
   "id": "24d68289",
   "metadata": {},
   "source": [
    "Rimozione dei dati totali (aggregati) o non definiti per la tipologia dell'utenza e ritenzione solo dei più recenti (2022):"
   ]
  },
  {
   "cell_type": "code",
   "execution_count": 20,
   "id": "5bcc3cab",
   "metadata": {},
   "outputs": [
    {
     "data": {
      "text/html": [
       "<div>\n",
       "<style scoped>\n",
       "    .dataframe tbody tr th:only-of-type {\n",
       "        vertical-align: middle;\n",
       "    }\n",
       "\n",
       "    .dataframe tbody tr th {\n",
       "        vertical-align: top;\n",
       "    }\n",
       "\n",
       "    .dataframe thead th {\n",
       "        text-align: right;\n",
       "    }\n",
       "</style>\n",
       "<table border=\"1\" class=\"dataframe\">\n",
       "  <thead>\n",
       "    <tr style=\"text-align: right;\">\n",
       "      <th></th>\n",
       "      <th>TIPUTENZA2</th>\n",
       "      <th>Tipologia di utenza</th>\n",
       "      <th>SEXISTAT1</th>\n",
       "      <th>TIME</th>\n",
       "      <th>Value</th>\n",
       "    </tr>\n",
       "  </thead>\n",
       "  <tbody>\n",
       "    <tr>\n",
       "      <th>19</th>\n",
       "      <td>OPERATORS</td>\n",
       "      <td>da operatori</td>\n",
       "      <td>T</td>\n",
       "      <td>2022</td>\n",
       "      <td>1.21</td>\n",
       "    </tr>\n",
       "    <tr>\n",
       "      <th>29</th>\n",
       "      <td>FRIEND_ACQU</td>\n",
       "      <td>da parenti/amici/conoscenti</td>\n",
       "      <td>T</td>\n",
       "      <td>2022</td>\n",
       "      <td>2.26</td>\n",
       "    </tr>\n",
       "    <tr>\n",
       "      <th>39</th>\n",
       "      <td>OTH_VALID</td>\n",
       "      <td>altre chiamate valide</td>\n",
       "      <td>T</td>\n",
       "      <td>2022</td>\n",
       "      <td>0.51</td>\n",
       "    </tr>\n",
       "    <tr>\n",
       "      <th>49</th>\n",
       "      <td>ERROR</td>\n",
       "      <td>chiamate errate</td>\n",
       "      <td>T</td>\n",
       "      <td>2022</td>\n",
       "      <td>36.62</td>\n",
       "    </tr>\n",
       "    <tr>\n",
       "      <th>59</th>\n",
       "      <td>STLK</td>\n",
       "      <td>molestatori</td>\n",
       "      <td>T</td>\n",
       "      <td>2022</td>\n",
       "      <td>6.02</td>\n",
       "    </tr>\n",
       "    <tr>\n",
       "      <th>69</th>\n",
       "      <td>JOKE</td>\n",
       "      <td>per motivi non pertinenti (scherzi)</td>\n",
       "      <td>T</td>\n",
       "      <td>2022</td>\n",
       "      <td>0.46</td>\n",
       "    </tr>\n",
       "    <tr>\n",
       "      <th>79</th>\n",
       "      <td>WRONG_NUM</td>\n",
       "      <td>per numero errato</td>\n",
       "      <td>T</td>\n",
       "      <td>2022</td>\n",
       "      <td>30.13</td>\n",
       "    </tr>\n",
       "    <tr>\n",
       "      <th>89</th>\n",
       "      <td>TOT</td>\n",
       "      <td>totale</td>\n",
       "      <td>T</td>\n",
       "      <td>2022</td>\n",
       "      <td>100.00</td>\n",
       "    </tr>\n",
       "    <tr>\n",
       "      <th>99</th>\n",
       "      <td>USERS_CAL</td>\n",
       "      <td>utenti che chiamano per sè</td>\n",
       "      <td>T</td>\n",
       "      <td>2022</td>\n",
       "      <td>59.41</td>\n",
       "    </tr>\n",
       "  </tbody>\n",
       "</table>\n",
       "</div>"
      ],
      "text/plain": [
       "     TIPUTENZA2                  Tipologia di utenza SEXISTAT1  TIME   Value\n",
       "19    OPERATORS                         da operatori         T  2022    1.21\n",
       "29  FRIEND_ACQU          da parenti/amici/conoscenti         T  2022    2.26\n",
       "39    OTH_VALID                altre chiamate valide         T  2022    0.51\n",
       "49        ERROR                      chiamate errate         T  2022   36.62\n",
       "59         STLK                          molestatori         T  2022    6.02\n",
       "69         JOKE  per motivi non pertinenti (scherzi)         T  2022    0.46\n",
       "79    WRONG_NUM                    per numero errato         T  2022   30.13\n",
       "89          TOT                               totale         T  2022  100.00\n",
       "99    USERS_CAL           utenti che chiamano per sè         T  2022   59.41"
      ]
     },
     "execution_count": 20,
     "metadata": {},
     "output_type": "execute_result"
    }
   ],
   "source": [
    "country_data = country_data[(country_data[\"TIPUTENZA2\"] != 'ALL_VAL') & (country_data[\"TIME\"] == 2022)]\n",
    "\n",
    "country_data"
   ]
  },
  {
   "cell_type": "markdown",
   "id": "e4310c31",
   "metadata": {},
   "source": [
    "Rimozione dato aggregato del totale:"
   ]
  },
  {
   "cell_type": "code",
   "execution_count": 21,
   "id": "2ba695d1",
   "metadata": {},
   "outputs": [
    {
     "data": {
      "text/html": [
       "<div>\n",
       "<style scoped>\n",
       "    .dataframe tbody tr th:only-of-type {\n",
       "        vertical-align: middle;\n",
       "    }\n",
       "\n",
       "    .dataframe tbody tr th {\n",
       "        vertical-align: top;\n",
       "    }\n",
       "\n",
       "    .dataframe thead th {\n",
       "        text-align: right;\n",
       "    }\n",
       "</style>\n",
       "<table border=\"1\" class=\"dataframe\">\n",
       "  <thead>\n",
       "    <tr style=\"text-align: right;\">\n",
       "      <th></th>\n",
       "      <th>TIPUTENZA2</th>\n",
       "      <th>Tipologia di utenza</th>\n",
       "      <th>SEXISTAT1</th>\n",
       "      <th>TIME</th>\n",
       "      <th>Value</th>\n",
       "    </tr>\n",
       "  </thead>\n",
       "  <tbody>\n",
       "    <tr>\n",
       "      <th>19</th>\n",
       "      <td>OPERATORS</td>\n",
       "      <td>da operatori</td>\n",
       "      <td>T</td>\n",
       "      <td>2022</td>\n",
       "      <td>1.21</td>\n",
       "    </tr>\n",
       "    <tr>\n",
       "      <th>29</th>\n",
       "      <td>FRIEND_ACQU</td>\n",
       "      <td>da parenti/amici/conoscenti</td>\n",
       "      <td>T</td>\n",
       "      <td>2022</td>\n",
       "      <td>2.26</td>\n",
       "    </tr>\n",
       "    <tr>\n",
       "      <th>39</th>\n",
       "      <td>OTH_VALID</td>\n",
       "      <td>altre chiamate valide</td>\n",
       "      <td>T</td>\n",
       "      <td>2022</td>\n",
       "      <td>0.51</td>\n",
       "    </tr>\n",
       "    <tr>\n",
       "      <th>49</th>\n",
       "      <td>ERROR</td>\n",
       "      <td>chiamate errate</td>\n",
       "      <td>T</td>\n",
       "      <td>2022</td>\n",
       "      <td>36.62</td>\n",
       "    </tr>\n",
       "    <tr>\n",
       "      <th>59</th>\n",
       "      <td>STLK</td>\n",
       "      <td>molestatori</td>\n",
       "      <td>T</td>\n",
       "      <td>2022</td>\n",
       "      <td>6.02</td>\n",
       "    </tr>\n",
       "    <tr>\n",
       "      <th>69</th>\n",
       "      <td>JOKE</td>\n",
       "      <td>per motivi non pertinenti (scherzi)</td>\n",
       "      <td>T</td>\n",
       "      <td>2022</td>\n",
       "      <td>0.46</td>\n",
       "    </tr>\n",
       "    <tr>\n",
       "      <th>79</th>\n",
       "      <td>WRONG_NUM</td>\n",
       "      <td>per numero errato</td>\n",
       "      <td>T</td>\n",
       "      <td>2022</td>\n",
       "      <td>30.13</td>\n",
       "    </tr>\n",
       "    <tr>\n",
       "      <th>99</th>\n",
       "      <td>USERS_CAL</td>\n",
       "      <td>utenti che chiamano per sè</td>\n",
       "      <td>T</td>\n",
       "      <td>2022</td>\n",
       "      <td>59.41</td>\n",
       "    </tr>\n",
       "  </tbody>\n",
       "</table>\n",
       "</div>"
      ],
      "text/plain": [
       "     TIPUTENZA2                  Tipologia di utenza SEXISTAT1  TIME  Value\n",
       "19    OPERATORS                         da operatori         T  2022   1.21\n",
       "29  FRIEND_ACQU          da parenti/amici/conoscenti         T  2022   2.26\n",
       "39    OTH_VALID                altre chiamate valide         T  2022   0.51\n",
       "49        ERROR                      chiamate errate         T  2022  36.62\n",
       "59         STLK                          molestatori         T  2022   6.02\n",
       "69         JOKE  per motivi non pertinenti (scherzi)         T  2022   0.46\n",
       "79    WRONG_NUM                    per numero errato         T  2022  30.13\n",
       "99    USERS_CAL           utenti che chiamano per sè         T  2022  59.41"
      ]
     },
     "execution_count": 21,
     "metadata": {},
     "output_type": "execute_result"
    }
   ],
   "source": [
    "country_data = country_data[country_data['TIPUTENZA2'] != 'TOT']\n",
    "country_data"
   ]
  },
  {
   "cell_type": "markdown",
   "id": "cbe43193",
   "metadata": {},
   "source": [
    "### Plot"
   ]
  },
  {
   "cell_type": "markdown",
   "id": "11650ef9",
   "metadata": {},
   "source": [
    "Sorting dei dati:"
   ]
  },
  {
   "cell_type": "code",
   "execution_count": 22,
   "id": "9dcfb198",
   "metadata": {},
   "outputs": [
    {
     "data": {
      "text/html": [
       "<div>\n",
       "<style scoped>\n",
       "    .dataframe tbody tr th:only-of-type {\n",
       "        vertical-align: middle;\n",
       "    }\n",
       "\n",
       "    .dataframe tbody tr th {\n",
       "        vertical-align: top;\n",
       "    }\n",
       "\n",
       "    .dataframe thead th {\n",
       "        text-align: right;\n",
       "    }\n",
       "</style>\n",
       "<table border=\"1\" class=\"dataframe\">\n",
       "  <thead>\n",
       "    <tr style=\"text-align: right;\">\n",
       "      <th></th>\n",
       "      <th>TIPUTENZA2</th>\n",
       "      <th>Tipologia di utenza</th>\n",
       "      <th>SEXISTAT1</th>\n",
       "      <th>TIME</th>\n",
       "      <th>Value</th>\n",
       "      <th>Y</th>\n",
       "      <th>X</th>\n",
       "    </tr>\n",
       "  </thead>\n",
       "  <tbody>\n",
       "    <tr>\n",
       "      <th>99</th>\n",
       "      <td>USERS_CAL</td>\n",
       "      <td>utenti che chiamano per sè</td>\n",
       "      <td>T</td>\n",
       "      <td>2022</td>\n",
       "      <td>59.41</td>\n",
       "      <td>1</td>\n",
       "      <td>0</td>\n",
       "    </tr>\n",
       "    <tr>\n",
       "      <th>49</th>\n",
       "      <td>ERROR</td>\n",
       "      <td>chiamate errate</td>\n",
       "      <td>T</td>\n",
       "      <td>2022</td>\n",
       "      <td>36.62</td>\n",
       "      <td>1</td>\n",
       "      <td>1</td>\n",
       "    </tr>\n",
       "    <tr>\n",
       "      <th>79</th>\n",
       "      <td>WRONG_NUM</td>\n",
       "      <td>per numero errato</td>\n",
       "      <td>T</td>\n",
       "      <td>2022</td>\n",
       "      <td>30.13</td>\n",
       "      <td>1</td>\n",
       "      <td>2</td>\n",
       "    </tr>\n",
       "    <tr>\n",
       "      <th>59</th>\n",
       "      <td>STLK</td>\n",
       "      <td>molestatori</td>\n",
       "      <td>T</td>\n",
       "      <td>2022</td>\n",
       "      <td>6.02</td>\n",
       "      <td>1</td>\n",
       "      <td>3</td>\n",
       "    </tr>\n",
       "    <tr>\n",
       "      <th>29</th>\n",
       "      <td>FRIEND_ACQU</td>\n",
       "      <td>da parenti/amici/conoscenti</td>\n",
       "      <td>T</td>\n",
       "      <td>2022</td>\n",
       "      <td>2.26</td>\n",
       "      <td>1</td>\n",
       "      <td>4</td>\n",
       "    </tr>\n",
       "    <tr>\n",
       "      <th>19</th>\n",
       "      <td>OPERATORS</td>\n",
       "      <td>da operatori</td>\n",
       "      <td>T</td>\n",
       "      <td>2022</td>\n",
       "      <td>1.21</td>\n",
       "      <td>1</td>\n",
       "      <td>5</td>\n",
       "    </tr>\n",
       "    <tr>\n",
       "      <th>39</th>\n",
       "      <td>OTH_VALID</td>\n",
       "      <td>altre chiamate valide</td>\n",
       "      <td>T</td>\n",
       "      <td>2022</td>\n",
       "      <td>0.51</td>\n",
       "      <td>1</td>\n",
       "      <td>6</td>\n",
       "    </tr>\n",
       "    <tr>\n",
       "      <th>69</th>\n",
       "      <td>JOKE</td>\n",
       "      <td>per motivi non pertinenti (scherzi)</td>\n",
       "      <td>T</td>\n",
       "      <td>2022</td>\n",
       "      <td>0.46</td>\n",
       "      <td>1</td>\n",
       "      <td>7</td>\n",
       "    </tr>\n",
       "  </tbody>\n",
       "</table>\n",
       "</div>"
      ],
      "text/plain": [
       "     TIPUTENZA2                  Tipologia di utenza SEXISTAT1  TIME  Value  \\\n",
       "99    USERS_CAL           utenti che chiamano per sè         T  2022  59.41   \n",
       "49        ERROR                      chiamate errate         T  2022  36.62   \n",
       "79    WRONG_NUM                    per numero errato         T  2022  30.13   \n",
       "59         STLK                          molestatori         T  2022   6.02   \n",
       "29  FRIEND_ACQU          da parenti/amici/conoscenti         T  2022   2.26   \n",
       "19    OPERATORS                         da operatori         T  2022   1.21   \n",
       "39    OTH_VALID                altre chiamate valide         T  2022   0.51   \n",
       "69         JOKE  per motivi non pertinenti (scherzi)         T  2022   0.46   \n",
       "\n",
       "    Y  X  \n",
       "99  1  0  \n",
       "49  1  1  \n",
       "79  1  2  \n",
       "59  1  3  \n",
       "29  1  4  \n",
       "19  1  5  \n",
       "39  1  6  \n",
       "69  1  7  "
      ]
     },
     "execution_count": 22,
     "metadata": {},
     "output_type": "execute_result"
    }
   ],
   "source": [
    "# crea un nuovo dataframe per evitare i warning relativi al fatto che si modifica una \n",
    "# porzione di un dataframe più grosso\n",
    "plt_data = country_data.copy()\n",
    "\n",
    "# sorta i record del dataframe in base al valore in maniera decrescente\n",
    "plt_data.sort_values(by=['Value'], inplace=True, ascending=False)\n",
    "\n",
    "# aggiunge due colonne al dataframe per istruire la costruzione dello scatterplot\n",
    "# tutti i cerchi sono sulla stessa Y \n",
    "# sull'asse x sono ordinati in base al valore\n",
    "plt_data['Y'] = [1]*len(plt_data)\n",
    "list_x = list(range(0, len(plt_data)))\n",
    "plt_data['X'] = list_x\n",
    "\n",
    "plt_data"
   ]
  },
  {
   "cell_type": "markdown",
   "id": "2630ccdd",
   "metadata": {},
   "source": [
    "Definizione della palette colori:"
   ]
  },
  {
   "cell_type": "code",
   "execution_count": 23,
   "id": "1ac8b039",
   "metadata": {},
   "outputs": [],
   "source": [
    "palette = [\"#F7DEE5\", \"#EEC1D2\", \"#D791B5\", \"#C4679B\", \"#AC4187\", \"#7D275C\", \"#481437\"]\n",
    "# palette.reverse() # a seconda se si vuole il più grande più scuro o viceversa"
   ]
  },
  {
   "cell_type": "markdown",
   "id": "77287c81",
   "metadata": {},
   "source": [
    "Primo plot di verifica tramite plotly per avere visione più chiara (cerchi in fila):"
   ]
  },
  {
   "cell_type": "code",
   "execution_count": 24,
   "id": "1b1d199f",
   "metadata": {},
   "outputs": [
    {
     "data": {
      "application/vnd.plotly.v1+json": {
       "config": {
        "plotlyServerURL": "https://plot.ly"
       },
       "data": [
        {
         "hovertemplate": "Tipologia di utenza=utenti che chiamano per sè<br>X=%{x}<br>Y=%{y}<br>Value=%{marker.size}<br>text=%{text}<extra></extra>",
         "legendgroup": "utenti che chiamano per sè",
         "marker": {
          "color": "#F7DEE5",
          "size": [
           59.41
          ],
          "sizemode": "area",
          "sizeref": 0.007334567901234567,
          "symbol": "circle"
         },
         "mode": "markers+text",
         "name": "utenti che chiamano per sè",
         "orientation": "v",
         "showlegend": true,
         "text": [
          "<br>da operatori<br>1.21%"
         ],
         "textposition": "top center",
         "type": "scatter",
         "x": [
          0
         ],
         "xaxis": "x",
         "y": [
          1
         ],
         "yaxis": "y"
        },
        {
         "hovertemplate": "Tipologia di utenza=chiamate errate<br>X=%{x}<br>Y=%{y}<br>Value=%{marker.size}<br>text=%{text}<extra></extra>",
         "legendgroup": "chiamate errate",
         "marker": {
          "color": "#EEC1D2",
          "size": [
           36.62
          ],
          "sizemode": "area",
          "sizeref": 0.007334567901234567,
          "symbol": "circle"
         },
         "mode": "markers+text",
         "name": "chiamate errate",
         "orientation": "v",
         "showlegend": true,
         "text": [
          "<br>da parenti/amici/conoscenti<br>2.26%"
         ],
         "textposition": "top center",
         "type": "scatter",
         "x": [
          1
         ],
         "xaxis": "x",
         "y": [
          1
         ],
         "yaxis": "y"
        },
        {
         "hovertemplate": "Tipologia di utenza=per numero errato<br>X=%{x}<br>Y=%{y}<br>Value=%{marker.size}<br>text=%{text}<extra></extra>",
         "legendgroup": "per numero errato",
         "marker": {
          "color": "#D791B5",
          "size": [
           30.13
          ],
          "sizemode": "area",
          "sizeref": 0.007334567901234567,
          "symbol": "circle"
         },
         "mode": "markers+text",
         "name": "per numero errato",
         "orientation": "v",
         "showlegend": true,
         "text": [
          "<br>altre chiamate valide<br>0.51%"
         ],
         "textposition": "top center",
         "type": "scatter",
         "x": [
          2
         ],
         "xaxis": "x",
         "y": [
          1
         ],
         "yaxis": "y"
        },
        {
         "hovertemplate": "Tipologia di utenza=molestatori<br>X=%{x}<br>Y=%{y}<br>Value=%{marker.size}<br>text=%{text}<extra></extra>",
         "legendgroup": "molestatori",
         "marker": {
          "color": "#C4679B",
          "size": [
           6.02
          ],
          "sizemode": "area",
          "sizeref": 0.007334567901234567,
          "symbol": "circle"
         },
         "mode": "markers+text",
         "name": "molestatori",
         "orientation": "v",
         "showlegend": true,
         "text": [
          "<br>chiamate errate<br>36.62%"
         ],
         "textposition": "top center",
         "type": "scatter",
         "x": [
          3
         ],
         "xaxis": "x",
         "y": [
          1
         ],
         "yaxis": "y"
        },
        {
         "hovertemplate": "Tipologia di utenza=da parenti/amici/conoscenti<br>X=%{x}<br>Y=%{y}<br>Value=%{marker.size}<br>text=%{text}<extra></extra>",
         "legendgroup": "da parenti/amici/conoscenti",
         "marker": {
          "color": "#AC4187",
          "size": [
           2.26
          ],
          "sizemode": "area",
          "sizeref": 0.007334567901234567,
          "symbol": "circle"
         },
         "mode": "markers+text",
         "name": "da parenti/amici/conoscenti",
         "orientation": "v",
         "showlegend": true,
         "text": [
          "<br>molestatori<br>6.02%"
         ],
         "textposition": "top center",
         "type": "scatter",
         "x": [
          4
         ],
         "xaxis": "x",
         "y": [
          1
         ],
         "yaxis": "y"
        },
        {
         "hovertemplate": "Tipologia di utenza=da operatori<br>X=%{x}<br>Y=%{y}<br>Value=%{marker.size}<br>text=%{text}<extra></extra>",
         "legendgroup": "da operatori",
         "marker": {
          "color": "#7D275C",
          "size": [
           1.21
          ],
          "sizemode": "area",
          "sizeref": 0.007334567901234567,
          "symbol": "circle"
         },
         "mode": "markers+text",
         "name": "da operatori",
         "orientation": "v",
         "showlegend": true,
         "text": [
          "<br>per motivi non pertinenti (scherzi)<br>0.46%"
         ],
         "textposition": "top center",
         "type": "scatter",
         "x": [
          5
         ],
         "xaxis": "x",
         "y": [
          1
         ],
         "yaxis": "y"
        },
        {
         "hovertemplate": "Tipologia di utenza=altre chiamate valide<br>X=%{x}<br>Y=%{y}<br>Value=%{marker.size}<br>text=%{text}<extra></extra>",
         "legendgroup": "altre chiamate valide",
         "marker": {
          "color": "#481437",
          "size": [
           0.51
          ],
          "sizemode": "area",
          "sizeref": 0.007334567901234567,
          "symbol": "circle"
         },
         "mode": "markers+text",
         "name": "altre chiamate valide",
         "orientation": "v",
         "showlegend": true,
         "text": [
          "<br>per numero errato<br>30.13%"
         ],
         "textposition": "top center",
         "type": "scatter",
         "x": [
          6
         ],
         "xaxis": "x",
         "y": [
          1
         ],
         "yaxis": "y"
        },
        {
         "hovertemplate": "Tipologia di utenza=per motivi non pertinenti (scherzi)<br>X=%{x}<br>Y=%{y}<br>Value=%{marker.size}<br>text=%{text}<extra></extra>",
         "legendgroup": "per motivi non pertinenti (scherzi)",
         "marker": {
          "color": "#F7DEE5",
          "size": [
           0.46
          ],
          "sizemode": "area",
          "sizeref": 0.007334567901234567,
          "symbol": "circle"
         },
         "mode": "markers+text",
         "name": "per motivi non pertinenti (scherzi)",
         "orientation": "v",
         "showlegend": true,
         "text": [
          "<br>utenti che chiamano per sè<br>59.41%"
         ],
         "textposition": "top center",
         "type": "scatter",
         "x": [
          7
         ],
         "xaxis": "x",
         "y": [
          1
         ],
         "yaxis": "y"
        }
       ],
       "layout": {
        "height": 320,
        "legend": {
         "itemsizing": "constant",
         "title": {
          "text": "Tipologia di utenza"
         },
         "tracegroupgap": 0
        },
        "margin": {
         "b": 0,
         "l": 0,
         "r": 0,
         "t": 50
        },
        "paper_bgcolor": "white",
        "plot_bgcolor": "white",
        "showlegend": false,
        "template": {
         "data": {
          "bar": [
           {
            "error_x": {
             "color": "#2a3f5f"
            },
            "error_y": {
             "color": "#2a3f5f"
            },
            "marker": {
             "line": {
              "color": "#E5ECF6",
              "width": 0.5
             },
             "pattern": {
              "fillmode": "overlay",
              "size": 10,
              "solidity": 0.2
             }
            },
            "type": "bar"
           }
          ],
          "barpolar": [
           {
            "marker": {
             "line": {
              "color": "#E5ECF6",
              "width": 0.5
             },
             "pattern": {
              "fillmode": "overlay",
              "size": 10,
              "solidity": 0.2
             }
            },
            "type": "barpolar"
           }
          ],
          "carpet": [
           {
            "aaxis": {
             "endlinecolor": "#2a3f5f",
             "gridcolor": "white",
             "linecolor": "white",
             "minorgridcolor": "white",
             "startlinecolor": "#2a3f5f"
            },
            "baxis": {
             "endlinecolor": "#2a3f5f",
             "gridcolor": "white",
             "linecolor": "white",
             "minorgridcolor": "white",
             "startlinecolor": "#2a3f5f"
            },
            "type": "carpet"
           }
          ],
          "choropleth": [
           {
            "colorbar": {
             "outlinewidth": 0,
             "ticks": ""
            },
            "type": "choropleth"
           }
          ],
          "contour": [
           {
            "colorbar": {
             "outlinewidth": 0,
             "ticks": ""
            },
            "colorscale": [
             [
              0,
              "#0d0887"
             ],
             [
              0.1111111111111111,
              "#46039f"
             ],
             [
              0.2222222222222222,
              "#7201a8"
             ],
             [
              0.3333333333333333,
              "#9c179e"
             ],
             [
              0.4444444444444444,
              "#bd3786"
             ],
             [
              0.5555555555555556,
              "#d8576b"
             ],
             [
              0.6666666666666666,
              "#ed7953"
             ],
             [
              0.7777777777777778,
              "#fb9f3a"
             ],
             [
              0.8888888888888888,
              "#fdca26"
             ],
             [
              1,
              "#f0f921"
             ]
            ],
            "type": "contour"
           }
          ],
          "contourcarpet": [
           {
            "colorbar": {
             "outlinewidth": 0,
             "ticks": ""
            },
            "type": "contourcarpet"
           }
          ],
          "heatmap": [
           {
            "colorbar": {
             "outlinewidth": 0,
             "ticks": ""
            },
            "colorscale": [
             [
              0,
              "#0d0887"
             ],
             [
              0.1111111111111111,
              "#46039f"
             ],
             [
              0.2222222222222222,
              "#7201a8"
             ],
             [
              0.3333333333333333,
              "#9c179e"
             ],
             [
              0.4444444444444444,
              "#bd3786"
             ],
             [
              0.5555555555555556,
              "#d8576b"
             ],
             [
              0.6666666666666666,
              "#ed7953"
             ],
             [
              0.7777777777777778,
              "#fb9f3a"
             ],
             [
              0.8888888888888888,
              "#fdca26"
             ],
             [
              1,
              "#f0f921"
             ]
            ],
            "type": "heatmap"
           }
          ],
          "heatmapgl": [
           {
            "colorbar": {
             "outlinewidth": 0,
             "ticks": ""
            },
            "colorscale": [
             [
              0,
              "#0d0887"
             ],
             [
              0.1111111111111111,
              "#46039f"
             ],
             [
              0.2222222222222222,
              "#7201a8"
             ],
             [
              0.3333333333333333,
              "#9c179e"
             ],
             [
              0.4444444444444444,
              "#bd3786"
             ],
             [
              0.5555555555555556,
              "#d8576b"
             ],
             [
              0.6666666666666666,
              "#ed7953"
             ],
             [
              0.7777777777777778,
              "#fb9f3a"
             ],
             [
              0.8888888888888888,
              "#fdca26"
             ],
             [
              1,
              "#f0f921"
             ]
            ],
            "type": "heatmapgl"
           }
          ],
          "histogram": [
           {
            "marker": {
             "pattern": {
              "fillmode": "overlay",
              "size": 10,
              "solidity": 0.2
             }
            },
            "type": "histogram"
           }
          ],
          "histogram2d": [
           {
            "colorbar": {
             "outlinewidth": 0,
             "ticks": ""
            },
            "colorscale": [
             [
              0,
              "#0d0887"
             ],
             [
              0.1111111111111111,
              "#46039f"
             ],
             [
              0.2222222222222222,
              "#7201a8"
             ],
             [
              0.3333333333333333,
              "#9c179e"
             ],
             [
              0.4444444444444444,
              "#bd3786"
             ],
             [
              0.5555555555555556,
              "#d8576b"
             ],
             [
              0.6666666666666666,
              "#ed7953"
             ],
             [
              0.7777777777777778,
              "#fb9f3a"
             ],
             [
              0.8888888888888888,
              "#fdca26"
             ],
             [
              1,
              "#f0f921"
             ]
            ],
            "type": "histogram2d"
           }
          ],
          "histogram2dcontour": [
           {
            "colorbar": {
             "outlinewidth": 0,
             "ticks": ""
            },
            "colorscale": [
             [
              0,
              "#0d0887"
             ],
             [
              0.1111111111111111,
              "#46039f"
             ],
             [
              0.2222222222222222,
              "#7201a8"
             ],
             [
              0.3333333333333333,
              "#9c179e"
             ],
             [
              0.4444444444444444,
              "#bd3786"
             ],
             [
              0.5555555555555556,
              "#d8576b"
             ],
             [
              0.6666666666666666,
              "#ed7953"
             ],
             [
              0.7777777777777778,
              "#fb9f3a"
             ],
             [
              0.8888888888888888,
              "#fdca26"
             ],
             [
              1,
              "#f0f921"
             ]
            ],
            "type": "histogram2dcontour"
           }
          ],
          "mesh3d": [
           {
            "colorbar": {
             "outlinewidth": 0,
             "ticks": ""
            },
            "type": "mesh3d"
           }
          ],
          "parcoords": [
           {
            "line": {
             "colorbar": {
              "outlinewidth": 0,
              "ticks": ""
             }
            },
            "type": "parcoords"
           }
          ],
          "pie": [
           {
            "automargin": true,
            "type": "pie"
           }
          ],
          "scatter": [
           {
            "fillpattern": {
             "fillmode": "overlay",
             "size": 10,
             "solidity": 0.2
            },
            "type": "scatter"
           }
          ],
          "scatter3d": [
           {
            "line": {
             "colorbar": {
              "outlinewidth": 0,
              "ticks": ""
             }
            },
            "marker": {
             "colorbar": {
              "outlinewidth": 0,
              "ticks": ""
             }
            },
            "type": "scatter3d"
           }
          ],
          "scattercarpet": [
           {
            "marker": {
             "colorbar": {
              "outlinewidth": 0,
              "ticks": ""
             }
            },
            "type": "scattercarpet"
           }
          ],
          "scattergeo": [
           {
            "marker": {
             "colorbar": {
              "outlinewidth": 0,
              "ticks": ""
             }
            },
            "type": "scattergeo"
           }
          ],
          "scattergl": [
           {
            "marker": {
             "colorbar": {
              "outlinewidth": 0,
              "ticks": ""
             }
            },
            "type": "scattergl"
           }
          ],
          "scattermapbox": [
           {
            "marker": {
             "colorbar": {
              "outlinewidth": 0,
              "ticks": ""
             }
            },
            "type": "scattermapbox"
           }
          ],
          "scatterpolar": [
           {
            "marker": {
             "colorbar": {
              "outlinewidth": 0,
              "ticks": ""
             }
            },
            "type": "scatterpolar"
           }
          ],
          "scatterpolargl": [
           {
            "marker": {
             "colorbar": {
              "outlinewidth": 0,
              "ticks": ""
             }
            },
            "type": "scatterpolargl"
           }
          ],
          "scatterternary": [
           {
            "marker": {
             "colorbar": {
              "outlinewidth": 0,
              "ticks": ""
             }
            },
            "type": "scatterternary"
           }
          ],
          "surface": [
           {
            "colorbar": {
             "outlinewidth": 0,
             "ticks": ""
            },
            "colorscale": [
             [
              0,
              "#0d0887"
             ],
             [
              0.1111111111111111,
              "#46039f"
             ],
             [
              0.2222222222222222,
              "#7201a8"
             ],
             [
              0.3333333333333333,
              "#9c179e"
             ],
             [
              0.4444444444444444,
              "#bd3786"
             ],
             [
              0.5555555555555556,
              "#d8576b"
             ],
             [
              0.6666666666666666,
              "#ed7953"
             ],
             [
              0.7777777777777778,
              "#fb9f3a"
             ],
             [
              0.8888888888888888,
              "#fdca26"
             ],
             [
              1,
              "#f0f921"
             ]
            ],
            "type": "surface"
           }
          ],
          "table": [
           {
            "cells": {
             "fill": {
              "color": "#EBF0F8"
             },
             "line": {
              "color": "white"
             }
            },
            "header": {
             "fill": {
              "color": "#C8D4E3"
             },
             "line": {
              "color": "white"
             }
            },
            "type": "table"
           }
          ]
         },
         "layout": {
          "annotationdefaults": {
           "arrowcolor": "#2a3f5f",
           "arrowhead": 0,
           "arrowwidth": 1
          },
          "autotypenumbers": "strict",
          "coloraxis": {
           "colorbar": {
            "outlinewidth": 0,
            "ticks": ""
           }
          },
          "colorscale": {
           "diverging": [
            [
             0,
             "#8e0152"
            ],
            [
             0.1,
             "#c51b7d"
            ],
            [
             0.2,
             "#de77ae"
            ],
            [
             0.3,
             "#f1b6da"
            ],
            [
             0.4,
             "#fde0ef"
            ],
            [
             0.5,
             "#f7f7f7"
            ],
            [
             0.6,
             "#e6f5d0"
            ],
            [
             0.7,
             "#b8e186"
            ],
            [
             0.8,
             "#7fbc41"
            ],
            [
             0.9,
             "#4d9221"
            ],
            [
             1,
             "#276419"
            ]
           ],
           "sequential": [
            [
             0,
             "#0d0887"
            ],
            [
             0.1111111111111111,
             "#46039f"
            ],
            [
             0.2222222222222222,
             "#7201a8"
            ],
            [
             0.3333333333333333,
             "#9c179e"
            ],
            [
             0.4444444444444444,
             "#bd3786"
            ],
            [
             0.5555555555555556,
             "#d8576b"
            ],
            [
             0.6666666666666666,
             "#ed7953"
            ],
            [
             0.7777777777777778,
             "#fb9f3a"
            ],
            [
             0.8888888888888888,
             "#fdca26"
            ],
            [
             1,
             "#f0f921"
            ]
           ],
           "sequentialminus": [
            [
             0,
             "#0d0887"
            ],
            [
             0.1111111111111111,
             "#46039f"
            ],
            [
             0.2222222222222222,
             "#7201a8"
            ],
            [
             0.3333333333333333,
             "#9c179e"
            ],
            [
             0.4444444444444444,
             "#bd3786"
            ],
            [
             0.5555555555555556,
             "#d8576b"
            ],
            [
             0.6666666666666666,
             "#ed7953"
            ],
            [
             0.7777777777777778,
             "#fb9f3a"
            ],
            [
             0.8888888888888888,
             "#fdca26"
            ],
            [
             1,
             "#f0f921"
            ]
           ]
          },
          "colorway": [
           "#636efa",
           "#EF553B",
           "#00cc96",
           "#ab63fa",
           "#FFA15A",
           "#19d3f3",
           "#FF6692",
           "#B6E880",
           "#FF97FF",
           "#FECB52"
          ],
          "font": {
           "color": "#2a3f5f"
          },
          "geo": {
           "bgcolor": "white",
           "lakecolor": "white",
           "landcolor": "#E5ECF6",
           "showlakes": true,
           "showland": true,
           "subunitcolor": "white"
          },
          "hoverlabel": {
           "align": "left"
          },
          "hovermode": "closest",
          "mapbox": {
           "style": "light"
          },
          "paper_bgcolor": "white",
          "plot_bgcolor": "#E5ECF6",
          "polar": {
           "angularaxis": {
            "gridcolor": "white",
            "linecolor": "white",
            "ticks": ""
           },
           "bgcolor": "#E5ECF6",
           "radialaxis": {
            "gridcolor": "white",
            "linecolor": "white",
            "ticks": ""
           }
          },
          "scene": {
           "xaxis": {
            "backgroundcolor": "#E5ECF6",
            "gridcolor": "white",
            "gridwidth": 2,
            "linecolor": "white",
            "showbackground": true,
            "ticks": "",
            "zerolinecolor": "white"
           },
           "yaxis": {
            "backgroundcolor": "#E5ECF6",
            "gridcolor": "white",
            "gridwidth": 2,
            "linecolor": "white",
            "showbackground": true,
            "ticks": "",
            "zerolinecolor": "white"
           },
           "zaxis": {
            "backgroundcolor": "#E5ECF6",
            "gridcolor": "white",
            "gridwidth": 2,
            "linecolor": "white",
            "showbackground": true,
            "ticks": "",
            "zerolinecolor": "white"
           }
          },
          "shapedefaults": {
           "line": {
            "color": "#2a3f5f"
           }
          },
          "ternary": {
           "aaxis": {
            "gridcolor": "white",
            "linecolor": "white",
            "ticks": ""
           },
           "baxis": {
            "gridcolor": "white",
            "linecolor": "white",
            "ticks": ""
           },
           "bgcolor": "#E5ECF6",
           "caxis": {
            "gridcolor": "white",
            "linecolor": "white",
            "ticks": ""
           }
          },
          "title": {
           "x": 0.05
          },
          "xaxis": {
           "automargin": true,
           "gridcolor": "white",
           "linecolor": "white",
           "ticks": "",
           "title": {
            "standoff": 15
           },
           "zerolinecolor": "white",
           "zerolinewidth": 2
          },
          "yaxis": {
           "automargin": true,
           "gridcolor": "white",
           "linecolor": "white",
           "ticks": "",
           "title": {
            "standoff": 15
           },
           "zerolinecolor": "white",
           "zerolinewidth": 2
          }
         }
        },
        "width": 900,
        "xaxis": {
         "anchor": "y",
         "domain": [
          0,
          1
         ],
         "showgrid": false,
         "title": {
          "text": "X"
         },
         "visible": false,
         "zeroline": false
        },
        "yaxis": {
         "anchor": "x",
         "domain": [
          0,
          1
         ],
         "showgrid": false,
         "title": {
          "text": "Y"
         },
         "visible": false,
         "zeroline": false
        }
       }
      }
     },
     "metadata": {},
     "output_type": "display_data"
    }
   ],
   "source": [
    "label = ['<br>' + str(i) + '<br>' + str(j) + '%' for i,j in \n",
    "         zip(country_data['Tipologia di utenza'], country_data['Value'])]\n",
    "\n",
    "fig = px.scatter(plt_data, x='X', y='Y', color='Tipologia di utenza', color_discrete_sequence=palette, \n",
    "                 size='Value', text=label, size_max=90)\n",
    "\n",
    "fig.update_layout(width=900, height=320, margin=dict(t=50, l=0, r=0, b=0), showlegend=False)\n",
    "fig.update_traces(textposition='top center')\n",
    "fig.update_xaxes(showgrid=False, zeroline=False, visible=False)\n",
    "fig.update_yaxes(showgrid=False, zeroline=False, visible=False)\n",
    "fig.update_layout({'plot_bgcolor': 'white','paper_bgcolor': 'white'})\n",
    "fig.show()"
   ]
  },
  {
   "cell_type": "markdown",
   "id": "1c356c09",
   "metadata": {},
   "source": [
    "Plot definitivo:"
   ]
  },
  {
   "cell_type": "code",
   "execution_count": 25,
   "id": "4d498c25",
   "metadata": {},
   "outputs": [
    {
     "data": {
      "image/png": "[encoded data removed]",
      "text/plain": [
       "<Figure size 1400x1400 with 1 Axes>"
      ]
     },
     "metadata": {},
     "output_type": "display_data"
    }
   ],
   "source": [
    "# label del grafico, contengono solo la percentuale,la relativa categoria sarà nella label\n",
    "labels = [str(percentage) + '%' for percentage in plt_data['Value']]\n",
    "\n",
    "# calcolo posizioni delle bolle\n",
    "circles = circlify.circlify(plt_data['Value'].tolist(), show_enclosure=False, \n",
    "                            target_enclosure=circlify.Circle(x=0, y=0))\n",
    "circles.reverse()\n",
    "\n",
    "# plot\n",
    "fig, ax = plt.subplots(figsize=(14,14), facecolor='white')\n",
    "\n",
    "ax.axis('off') # rimozione assi\n",
    "\n",
    "lim = max(max(abs(circle.x)+circle.r, abs(circle.y)+circle.r,) for circle in circles)\n",
    "plt.xlim(-lim, lim)\n",
    "plt.ylim(-lim, lim)\n",
    "\n",
    "# idx -> indice del cerchio corrente\n",
    "# circle -> cerchio corrente\n",
    "# percentage -> stringa che contiene la percentuale del cerchio\n",
    "# color -> colore corrente (da usare per il cerchio) preso dalla palette\n",
    "for idx, circle, percentage, color in zip(range(0, len(labels)), circles, labels, palette):\n",
    "    x, y, r = circle # informazioni cerchio\n",
    "    ax.add_patch(plt.Circle((x, y), r, alpha=1, color=color)) # colorazione cerchio\n",
    "\n",
    "    # selezione del colore del font in modo che sia a contrasto col colore del cerchio\n",
    "    font_color = 'white' if idx > 3 else palette[-1]\n",
    "    # selezione della dimensione della label in base alla dimensione del cerchio\n",
    "    font_size = 16 if r > 0.06 else 12\n",
    "\n",
    "    # impostazione della label\n",
    "    plt.annotate(percentage, (x,y), size=font_size, color=font_color, va='center', ha='center')\n",
    "\n",
    "# legenda custom\n",
    "legend_circles = [Line2D([], [], color='white', marker='o', markersize=10, markerfacecolor=x) for x in palette]\n",
    "legend_labels = [x for x in plt_data['Tipologia di utenza'].values]\n",
    "plt.legend(legend_circles, legend_labels)\n",
    "\n",
    "plt.xticks([])\n",
    "plt.yticks([])\n",
    "\n",
    "plt.show()"
   ]
  }
 ],
 "metadata": {
  "kernelspec": {
   "display_name": "Python 3 (ipykernel)",
   "language": "python",
   "name": "python3"
  },
  "language_info": {
   "codemirror_mode": {
    "name": "ipython",
    "version": 3
   },
   "file_extension": ".py",
   "mimetype": "text/x-python",
   "name": "python",
   "nbconvert_exporter": "python",
   "pygments_lexer": "ipython3",
   "version": "3.11.6"
  }
 },
 "nbformat": 4,
 "nbformat_minor": 5
}
